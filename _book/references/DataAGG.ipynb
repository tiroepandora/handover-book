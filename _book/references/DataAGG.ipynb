{
  "nbformat": 4,
  "nbformat_minor": 0,
  "metadata": {
    "colab": {
      "provenance": []
    },
    "kernelspec": {
      "name": "python3",
      "display_name": "Python 3"
    },
    "language_info": {
      "name": "python"
    }
  },
  "cells": [
    {
      "cell_type": "code",
      "execution_count": null,
      "metadata": {
        "colab": {
          "base_uri": "https://localhost:8080/"
        },
        "id": "INLjdMdheAOw",
        "outputId": "8c0dd411-0b70-49b4-f28c-adb7dad3b3c3"
      },
      "outputs": [
        {
          "name": "stdout",
          "output_type": "stream",
          "text": [
            "Enter the file path: /content/Weekly_Paid_Social.csv\n"
          ]
        },
        {
          "output_type": "stream",
          "name": "stderr",
          "text": [
            "[*********************100%***********************]  5 of 5 completed"
          ]
        },
        {
          "output_type": "stream",
          "name": "stdout",
          "text": [
            "Market\n",
            "AU     73683.71\n",
            "CA     45595.48\n",
            "DE    138319.26\n",
            "ES     33306.97\n",
            "FR     58207.23\n",
            "IT     79727.52\n",
            "PL     74208.56\n",
            "UK    138949.98\n",
            "US    326628.00\n",
            "Name: Spend_in_local_currency, dtype: float64\n"
          ]
        },
        {
          "output_type": "stream",
          "name": "stderr",
          "text": [
            "\n"
          ]
        }
      ],
      "source": [
        "import pandas as pd\n",
        "import yfinance as yf\n",
        "import warnings\n",
        "\n",
        "# Suppress warnings for cleaner output\n",
        "warnings.filterwarnings('ignore')\n",
        "\n",
        "file_path = input('Enter the file path: ')\n",
        "# Load the aggregated Smartly data\n",
        "smartly_agg = pd.read_csv(file_path)\n",
        "\n",
        "\n",
        "# Convert account names to uppercase for consistency (this ensures case-insensitive matching later)\n",
        "smartly_agg['Account'] = smartly_agg['Account'].str.upper()\n",
        "\n",
        "# Define a dictionary to map full country names to their corresponding market initials\n",
        "country_to_market = {\n",
        "    'AUSTRALIA': 'AU',\n",
        "    'UNITED KINGDOM': 'UK',\n",
        "    'POLAND': 'PL',\n",
        "    'ITALY': 'IT',\n",
        "    'FRANCE': 'FR',\n",
        "    'SPAIN': 'ES',\n",
        "    'GERMANY': 'DE',\n",
        "    'CANADA': 'CA',\n",
        "    'UNITED STATES': 'US',\n",
        "}\n",
        "\n",
        "# Function to normalize account names by extracting market initials\n",
        "def normalize_account(account):\n",
        "    account_upper = account.upper()  # Convert account name to uppercase\n",
        "    # Iterate through each market initial and check if it is part of the account name\n",
        "    for market in country_to_market.values():\n",
        "        if market in account_upper:\n",
        "            return market\n",
        "    # If no market initials found, return 'Unknown'\n",
        "    return 'Unknown'\n",
        "\n",
        "# Apply the normalization function to the 'Account' column to extract the market initials\n",
        "smartly_agg = smartly_agg.replace('PANDORA UNITED STATES', 'US')\n",
        "smartly_agg['Market'] = smartly_agg['Account'].apply(normalize_account)\n",
        "\n",
        "# Specific market mappings for Pandora accounts (special cases)\n",
        "market_mapping = {\n",
        "    'PANDORA POLAND': 'PL',\n",
        "    'PANDORA IPROSPECT': 'UK',\n",
        "    'PANDORA - GERMANY': 'DE',\n",
        "    'PANDORA': 'CA',\n",
        "    'PANDORA SPAIN': 'ES',\n",
        "    'PANDORA_GB': 'UK',\n",
        "    'PANDORA GERMANY': 'DE',\n",
        "}\n",
        "\n",
        "# For accounts with 'Unknown' market, apply the mapping to assign correct market\n",
        "smartly_agg_rest = smartly_agg[smartly_agg['Market'] == 'Unknown']\n",
        "smartly_agg_rest['Market'] = smartly_agg_rest['Account'].map(market_mapping)\n",
        "\n",
        "# Combine the original dataframe with the updated 'smartly_agg_rest' containing the correct markets\n",
        "smartly_agg = pd.concat([smartly_agg[smartly_agg['Market'] != 'Unknown'], smartly_agg_rest])\n",
        "\n",
        "# Define the currency pairs for conversion (for downloading forex data)\n",
        "currency_pairs = ['USDCAD=X', 'USDPLN=X', 'USDEUR=X', 'USDGBP=X', 'USDAUD=X']\n",
        "\n",
        "# Download the forex data (1-day period to get the latest exchange rates)\n",
        "data = yf.download(currency_pairs, period='1d', interval='1d')\n",
        "\n",
        "# Extract the closing exchange rates from the downloaded data\n",
        "exchange_rates = data['Close'].iloc[-1]\n",
        "\n",
        "# Assign individual exchange rates for each currency pair\n",
        "USDCAD = exchange_rates['USDCAD=X']\n",
        "USDPLN = exchange_rates['USDPLN=X']\n",
        "USDEUR = exchange_rates['USDEUR=X']\n",
        "USDGBP = exchange_rates['USDGBP=X']\n",
        "USDAUD = exchange_rates['USDAUD=X']\n",
        "\n",
        "# Map of market codes to the corresponding exchange rates\n",
        "map = {\n",
        "    'DE': USDEUR,\n",
        "    'UK': USDGBP,\n",
        "    'PL': USDPLN,\n",
        "    'CA': USDCAD,\n",
        "    'ES': USDEUR,\n",
        "    'IT': USDEUR,\n",
        "    'FR': USDEUR,\n",
        "    'US': 1,  # USD is already in local currency\n",
        "    'AU': USDAUD,\n",
        "}\n",
        "\n",
        "# Filter rows where the Advertising Platform is 'tiktok'\n",
        "smartly_agg_tiktok = smartly_agg[smartly_agg['Advertising Platform'] == 'tiktok']\n",
        "\n",
        "# Apply the exchange rate map to convert 'Spend' into local currency for 'tiktok' platform\n",
        "smartly_agg_tiktok['exchange_rate'] = smartly_agg_tiktok['Market'].map(map)\n",
        "smartly_agg_tiktok['Spend_in_local_currency'] = smartly_agg_tiktok['Spend'] * smartly_agg_tiktok['exchange_rate']\n",
        "\n",
        "# Update the main dataframe with the converted 'Spend_in_local_currency' for tiktok platform\n",
        "smartly_agg.loc[smartly_agg['Advertising Platform'] == 'tiktok', 'Spend_in_local_currency'] = smartly_agg_tiktok['Spend_in_local_currency']\n",
        "\n",
        "# For all other accounts, 'Spend' is assumed to already be in local currency (no conversion needed)\n",
        "smartly_agg['Spend_in_local_currency'] = smartly_agg['Spend_in_local_currency'].fillna(smartly_agg['Spend'])\n",
        "\n",
        "\n",
        "# Group by 'Market' and sum the 'Spend_in_local_currency' for each market\n",
        "paid_social_smartly = smartly_agg.groupby(['Market'])['Spend_in_local_currency'].sum().round(2)\n",
        "\n",
        "print(paid_social_smartly)\n"
      ]
    },
    {
      "cell_type": "code",
      "source": [
        "import pandas as pd\n",
        "import gspread\n",
        "from oauth2client.service_account import ServiceAccountCredentials\n",
        "\n",
        "# Authenticate and connect to Google Sheets\n",
        "scope = [\"https://spreadsheets.google.com/feeds\", \"https://www.googleapis.com/auth/drive\"]\n",
        "creds = ServiceAccountCredentials.from_json_keyfile_name('/content/drive/MyDrive/LiftLab/pandora-dashboard-data-0a402d52e1d4.json', scope)\n",
        "client = gspread.authorize(creds)\n",
        "\n",
        "# Open the Google Sheet\n",
        "sheet = client.open('LL QA').worksheet('Sheet2')\n",
        "\n",
        "# Assuming `paid_social_smartly` is a Series, we convert it to a DataFrame\n",
        "# This will create a DataFrame with a single column\n",
        "df = pd.DataFrame(paid_social_smartly)\n",
        "\n",
        "\n",
        "\n",
        "# Convert DataFrame to list of lists for update\n",
        "sheet.update([df.columns.values.tolist()] + df.values.tolist())\n",
        "\n",
        "print(\"✅ Data successfully updated in Google Sheets!\")\n"
      ],
      "metadata": {
        "id": "QnX4Ho7FeSHk",
        "colab": {
          "base_uri": "https://localhost:8080/"
        },
        "outputId": "8fd7d95a-d168-4979-8397-09dc055eae0c"
      },
      "execution_count": null,
      "outputs": [
        {
          "output_type": "stream",
          "name": "stdout",
          "text": [
            "✅ Data successfully updated in Google Sheets!\n"
          ]
        }
      ]
    },
    {
      "cell_type": "code",
      "source": [
        "print(smartly_agg)"
      ],
      "metadata": {
        "colab": {
          "base_uri": "https://localhost:8080/"
        },
        "id": "PzBfRYgF-qFL",
        "outputId": "e06d6ae2-3623-43ad-b6b2-100bc4da8169"
      },
      "execution_count": null,
      "outputs": [
        {
          "output_type": "stream",
          "name": "stdout",
          "text": [
            "                              Account ID                  Account  \\\n",
            "0                      10156689910474867         PANDORA UK - GBP   \n",
            "1                       1112706958882724               PANDORA PL   \n",
            "2                        185771395657547               PANDORA CA   \n",
            "3                       1970974156303010               PANDORA US   \n",
            "4                        256177075058415               PANDORA AU   \n",
            "6                        306212499969457               PANDORA IT   \n",
            "7   329c1ede-fe44-4a11-b133-74c8d53a26b3           PANDORA CANADA   \n",
            "8                        355425371665903               PANDORA ES   \n",
            "9                        472795509876316               PANDORA DE   \n",
            "11                          549756533137               PANDORA US   \n",
            "12                          549756556001  PANDORA AUSTRALIA (AUD)   \n",
            "13                          549756929517           PANDORA FRANCE   \n",
            "15                          549759834852               PANDORA ES   \n",
            "17                          549763026597               PANDORA PL   \n",
            "18                   6852753068090458118               PANDORA_US   \n",
            "20                   7132123961667747842               PANDORA_DE   \n",
            "21                   7134720354374647809               PANDORA PL   \n",
            "23                   7141300729221808130               PANDORA_AU   \n",
            "24                   7142502106858061826               PANDORA_IT   \n",
            "25                   7145864477781557249               PANDORA_CA   \n",
            "26                   7145866036892418049               PANDORA_ES   \n",
            "27                   7145866142492459009               PANDORA_FR   \n",
            "28                       718624625152104               PANDORA FR   \n",
            "29  93d872f4-7b53-4136-a161-ada0ad1dd9ab        PANDORA AUSTRALIA   \n",
            "31  b19b8a4a-f899-4ad7-aa79-da813a37b8e1               PANDORA UK   \n",
            "32  d3176b18-2193-4153-8acb-fc3348174ef8           PANDORA FRANCE   \n",
            "33  d8ef4baf-3d83-4446-a358-13d1792ec23d           PANDORA CANADA   \n",
            "34  e16c5c79-d3c0-40c1-82e6-cf362704f77b                       US   \n",
            "5   2b158c77-27a4-427c-8c38-087233e9a39f           PANDORA POLAND   \n",
            "10                          549756443791        PANDORA IPROSPECT   \n",
            "14                          549759012264        PANDORA - GERMANY   \n",
            "16                          549760998382                  PANDORA   \n",
            "19  688d69b8-d57c-40b7-bfe7-04730462039a            PANDORA SPAIN   \n",
            "22                   7140982657994752001               PANDORA_GB   \n",
            "30  acdc7e28-dece-474d-ba41-c0661a77df89          PANDORA GERMANY   \n",
            "\n",
            "   Advertising Platform          Spend Currency Market  \\\n",
            "0              facebook   41526.500000      GBP     UK   \n",
            "1              facebook   35432.070000      PLN     PL   \n",
            "2              facebook   37973.820000      CAD     CA   \n",
            "3              facebook  248712.590000      USD     US   \n",
            "4              facebook   24211.730000      AUD     AU   \n",
            "6              facebook   27350.460000      EUR     IT   \n",
            "7              snapchat       0.000000      CAD     CA   \n",
            "8              facebook   22564.220000      EUR     ES   \n",
            "9              facebook   50496.600000      EUR     DE   \n",
            "11            pinterest   36518.465276      USD     US   \n",
            "12            pinterest   15089.546883      AUD     AU   \n",
            "13            pinterest       0.000000      EUR     FR   \n",
            "15            pinterest    2440.297264      EUR     ES   \n",
            "17            pinterest       0.000000      PLN     PL   \n",
            "18               tiktok   36499.250000      USD     US   \n",
            "20               tiktok   26296.000000      USD     DE   \n",
            "21               tiktok    5781.560000      USD     PL   \n",
            "23               tiktok    3400.560000      USD     AU   \n",
            "24               tiktok   29314.100000      USD     IT   \n",
            "25               tiktok    4916.030000      USD     CA   \n",
            "26               tiktok    9169.080000      USD     ES   \n",
            "27               tiktok    8798.830000      USD     FR   \n",
            "28             facebook   30318.400000      EUR     FR   \n",
            "29             snapchat    8053.980000      AUD     AU   \n",
            "31             snapchat       0.000000      GBP     UK   \n",
            "32             snapchat   17362.980000      EUR     FR   \n",
            "33             snapchat    6501.910000      CAD     CA   \n",
            "34             snapchat   32585.660000      USD     US   \n",
            "5              snapchat       0.000000      EUR     PL   \n",
            "10            pinterest    2501.995758      GBP     UK   \n",
            "14            pinterest    9119.430869      EUR     DE   \n",
            "16            pinterest    6884.967838      CAD     CA   \n",
            "19             snapchat       0.000000      EUR     ES   \n",
            "22               tiktok   27118.230000      USD     UK   \n",
            "30             snapchat    6349.520000      EUR     DE   \n",
            "\n",
            "    Spend_in_local_currency  \n",
            "0              41526.500000  \n",
            "1              35432.070000  \n",
            "2              37973.820000  \n",
            "3             248712.590000  \n",
            "4              24211.730000  \n",
            "6              27350.460000  \n",
            "7                  0.000000  \n",
            "8              22564.220000  \n",
            "9              50496.600000  \n",
            "11             36518.465276  \n",
            "12             15089.546883  \n",
            "13                 0.000000  \n",
            "15              2440.297264  \n",
            "17                 0.000000  \n",
            "18             36499.250000  \n",
            "20             25625.452013  \n",
            "21             24082.336505  \n",
            "23              5480.444387  \n",
            "24             28566.590464  \n",
            "25              7060.500852  \n",
            "26              8935.268464  \n",
            "27              8574.459839  \n",
            "28             30318.400000  \n",
            "29              8053.980000  \n",
            "31                 0.000000  \n",
            "32             17362.980000  \n",
            "33              6501.910000  \n",
            "34             32585.660000  \n",
            "5                  0.000000  \n",
            "10              2501.995758  \n",
            "14              9119.430869  \n",
            "16              6884.967838  \n",
            "19                 0.000000  \n",
            "22             22181.628058  \n",
            "30              6349.520000  \n"
          ]
        }
      ]
    },
    {
      "cell_type": "code",
      "source": [
        "from google.colab import drive\n",
        "drive.mount('/content/drive')"
      ],
      "metadata": {
        "id": "wvFhZSSdk1--"
      },
      "execution_count": null,
      "outputs": []
    }
  ]
}